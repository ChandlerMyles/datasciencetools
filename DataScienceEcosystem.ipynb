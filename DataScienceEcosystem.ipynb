{
 "cells": [
  {
   "cell_type": "markdown",
   "id": "f7c8db8c",
   "metadata": {},
   "source": [
    "# Data Science Tools and Ecosystem"
   ]
  },
  {
   "cell_type": "markdown",
   "id": "23b21c90",
   "metadata": {},
   "source": [
    "In this notebook, Data Science Tools and Ecosystem are summarized."
   ]
  },
  {
   "cell_type": "markdown",
   "id": "bc8d40a7",
   "metadata": {},
   "source": [
    "**Objectives:**\n",
    "\n",
    "- List popular langauges for data science\n",
    "- List open source tools\n",
    "- Using arithmetic expressions in Python"
   ]
  },
  {
   "cell_type": "markdown",
   "id": "231cc8c6",
   "metadata": {},
   "source": [
    "Some of the popular languages that Data Scientists use are:\n",
    "\n",
    "1. Python\n",
    "2. R\n",
    "3. Julia"
   ]
  },
  {
   "cell_type": "markdown",
   "id": "c53f369a",
   "metadata": {},
   "source": [
    "|Data Science Tools|Purpose|\n",
    "|-----|-----|\n",
    "|Pandas|Python library used for data structuring|\n",
    "|PyTorch|A deep learning library that is fairly low level which is good for researchers like me|\n",
    "|Jupyter Lab and Notebokks|A web app that allows sharing of marked down code and visualizations|"
   ]
  },
  {
   "cell_type": "markdown",
   "id": "146b2d20",
   "metadata": {},
   "source": [
    "### Below are a few examples of evaluating arithmetic expressions in Python"
   ]
  },
  {
   "cell_type": "code",
   "execution_count": 3,
   "id": "ba2bbc33",
   "metadata": {},
   "outputs": [
    {
     "data": {
      "text/plain": [
       "17"
      ]
     },
     "execution_count": 3,
     "metadata": {},
     "output_type": "execute_result"
    }
   ],
   "source": [
    "#This is a simple arithmetic expression to multiple then add integers.\n",
    "(3*4)+5"
   ]
  },
  {
   "cell_type": "code",
   "execution_count": 6,
   "id": "0aec5121",
   "metadata": {},
   "outputs": [
    {
     "name": "stdout",
     "output_type": "stream",
     "text": [
      "3.3333333333333335\n"
     ]
    }
   ],
   "source": [
    "#This will convert 200 minutes to hours by dividing by 60.\n",
    "\n",
    "timeinminutes = 200\n",
    "minutesinhour = 60\n",
    "\n",
    "timeinhours = timeinminutes/minutesinhour\n",
    "\n",
    "print(timeinhours)"
   ]
  },
  {
   "cell_type": "markdown",
   "id": "408c0cc7",
   "metadata": {},
   "source": [
    "## Author\n",
    "Myles Chandler"
   ]
  },
  {
   "cell_type": "code",
   "execution_count": null,
   "id": "2a19c6e2",
   "metadata": {},
   "outputs": [],
   "source": []
  }
 ],
 "metadata": {
  "kernelspec": {
   "display_name": "Python 3 (ipykernel)",
   "language": "python",
   "name": "python3"
  },
  "language_info": {
   "codemirror_mode": {
    "name": "ipython",
    "version": 3
   },
   "file_extension": ".py",
   "mimetype": "text/x-python",
   "name": "python",
   "nbconvert_exporter": "python",
   "pygments_lexer": "ipython3",
   "version": "3.11.4"
  }
 },
 "nbformat": 4,
 "nbformat_minor": 5
}
